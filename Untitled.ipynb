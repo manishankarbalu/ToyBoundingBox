{
 "cells": [
  {
   "cell_type": "code",
   "execution_count": 1,
   "metadata": {
    "collapsed": true
   },
   "outputs": [],
   "source": [
    "import numpy as np\n",
    "import matplotlib.pyplot as plt\n",
    "import matplotlib\n",
    "%matplotlib inline"
   ]
  },
  {
   "cell_type": "code",
   "execution_count": 3,
   "metadata": {},
   "outputs": [
    {
     "data": {
      "text/plain": [
       "((200, 16, 16, 3), (200, 2, 4), (200, 2), (200, 2))"
      ]
     },
     "execution_count": 3,
     "metadata": {},
     "output_type": "execute_result"
    }
   ],
   "source": [
    "import cairo\n",
    "num_imgs = 200\n",
    "\n",
    "img_size = 16\n",
    "min_object_size = 2\n",
    "max_object_size = 8\n",
    "num_objects = 2\n",
    "\n",
    "bboxes = np.zeros((num_imgs, num_objects, 4))\n",
    "imgs = np.zeros((num_imgs, img_size, img_size, 4), dtype=np.uint8)  # format: BGRA\n",
    "shapes = np.zeros((num_imgs, num_objects), dtype=int)\n",
    "num_shapes = 3\n",
    "shape_labels = ['rectangle', 'circle', 'triangle']\n",
    "colors = np.zeros((num_imgs, num_objects), dtype=int)\n",
    "num_colors = 3\n",
    "color_labels = ['r', 'g', 'b']\n",
    "\n",
    "for i_img in range(num_imgs):\n",
    "    surface = cairo.ImageSurface.create_for_data(imgs[i_img], cairo.FORMAT_ARGB32, img_size, img_size)\n",
    "    cr = cairo.Context(surface)\n",
    "\n",
    "    # Fill background white.\n",
    "    cr.set_source_rgb(1, 1, 1)\n",
    "    cr.paint()\n",
    "    \n",
    "    # TODO: Try no overlap here.\n",
    "    # Draw random shapes.\n",
    "    for i_object in range(num_objects):\n",
    "        shape = np.random.randint(num_shapes)\n",
    "        shapes[i_img, i_object] = shape\n",
    "        if shape == 0:  # rectangle\n",
    "            w, h = np.random.randint(min_object_size, max_object_size, size=2)\n",
    "            x = np.random.randint(0, img_size - w)\n",
    "            y = np.random.randint(0, img_size - h)\n",
    "            bboxes[i_img, i_object] = [x, y, w, h]\n",
    "            cr.rectangle(x, y, w, h)            \n",
    "        elif shape == 1:  # circle   \n",
    "            r = 0.5 * np.random.randint(min_object_size, max_object_size)\n",
    "            x = np.random.randint(r, img_size - r)\n",
    "            y = np.random.randint(r, img_size - r)\n",
    "            bboxes[i_img, i_object] = [x - r, y - r, 2 * r, 2 * r]\n",
    "            cr.arc(x, y, r, 0, 2*np.pi)\n",
    "        elif shape == 2:  # triangle\n",
    "            w, h = np.random.randint(min_object_size, max_object_size, size=2)\n",
    "            x = np.random.randint(0, img_size - w)\n",
    "            y = np.random.randint(0, img_size - h)\n",
    "            bboxes[i_img, i_object] = [x, y, w, h]\n",
    "            cr.move_to(x, y)\n",
    "            cr.line_to(x+w, y)\n",
    "            cr.line_to(x+w, y+h)\n",
    "            cr.line_to(x, y)\n",
    "            cr.close_path()\n",
    "        \n",
    "        # Put some variation to the colors by adding a small random offset to the rgb values.\n",
    "        color = np.random.randint(num_colors)\n",
    "        colors[i_img, i_object] = color\n",
    "        max_offset = 0.3\n",
    "        r_offset, g_offset, b_offset = max_offset * 2. * (np.random.rand(3) - 0.5)\n",
    "        if color == 0:\n",
    "            cr.set_source_rgb(1-max_offset+r_offset, 0+g_offset, 0+b_offset)\n",
    "        elif color == 1:\n",
    "            cr.set_source_rgb(0+r_offset, 1-max_offset+g_offset, 0+b_offset)\n",
    "        elif color == 2:\n",
    "            cr.set_source_rgb(0+r_offset, 0-max_offset+g_offset, 1+b_offset)\n",
    "        cr.fill()\n",
    "        \n",
    "imgs = imgs[..., 2::-1]  # is BGRA, convert to RGB\n",
    "\n",
    "imgs.shape, bboxes.shape, shapes.shape, colors.shape"
   ]
  },
  {
   "cell_type": "code",
   "execution_count": 4,
   "metadata": {},
   "outputs": [
    {
     "data": {
      "image/png": "[encoded data removed]",
      "text/plain": [
       "<matplotlib.figure.Figure at 0x7f604f28ea50>"
      ]
     },
     "metadata": {},
     "output_type": "display_data"
    }
   ],
   "source": [
    "i = 2\n",
    "plt.imshow(imgs[i], interpolation='none', origin='lower', extent=[0, img_size, 0, img_size])\n",
    "for bbox, shape, color in zip(bboxes[i], shapes[i], colors[i]):\n",
    "    plt.gca().add_patch(matplotlib.patches.Rectangle((bbox[0], bbox[1]), bbox[2], bbox[3], ec='k', fc='none'))\n",
    "    plt.annotate(shape_labels[shape], (bbox[0], bbox[1] + bbox[3] + 0.7), color=color_labels[color], clip_on=False)"
   ]
  },
  {
   "cell_type": "code",
   "execution_count": 5,
   "metadata": {},
   "outputs": [
    {
     "name": "stdout",
     "output_type": "stream",
     "text": [
      "(200, 3, 16, 16)\n"
     ]
    }
   ],
   "source": [
    "imgs = np.transpose(imgs,(0,3,1,2))\n",
    "print imgs.shape"
   ]
  },
  {
   "cell_type": "code",
   "execution_count": 6,
   "metadata": {},
   "outputs": [
    {
     "data": {
      "text/plain": [
       "((200, 3, 16, 16), 0.41336259191176472, 0.25072160663772702)"
      ]
     },
     "execution_count": 6,
     "metadata": {},
     "output_type": "execute_result"
    }
   ],
   "source": [
    "X = (imgs - 128.) / 255.\n",
    "X.shape, np.mean(X), np.std(X)"
   ]
  },
  {
   "cell_type": "code",
   "execution_count": 7,
   "metadata": {},
   "outputs": [
    {
     "data": {
      "text/plain": [
       "((200, 20), True)"
      ]
     },
     "execution_count": 7,
     "metadata": {},
     "output_type": "execute_result"
    }
   ],
   "source": [
    "colors_onehot = np.zeros((num_imgs, num_objects, num_colors))\n",
    "for i_img in range(num_imgs):\n",
    "    for i_object in range(num_objects):\n",
    "        colors_onehot[i_img, i_object, colors[i_img, i_object]] = 1\n",
    "\n",
    "shapes_onehot = np.zeros((num_imgs, num_objects, num_shapes))\n",
    "for i_img in range(num_imgs):\n",
    "    for i_object in range(num_objects):\n",
    "        shapes_onehot[i_img, i_object, shapes[i_img, i_object]] = 1\n",
    "        \n",
    "y = np.concatenate([bboxes / img_size, shapes_onehot, colors_onehot], axis=-1).reshape(num_imgs, -1)\n",
    "y.shape, np.all(np.argmax(colors_onehot, axis=-1) == colors)"
   ]
  },
  {
   "cell_type": "code",
   "execution_count": 8,
   "metadata": {},
   "outputs": [
    {
     "name": "stdout",
     "output_type": "stream",
     "text": [
      "(160, 3, 16, 16) (160, 20)\n"
     ]
    }
   ],
   "source": [
    "i = int(0.8 * num_imgs)\n",
    "train_X = X[:i]\n",
    "test_X = X[i:]\n",
    "train_y = y[:i]\n",
    "test_y = y[i:]\n",
    "test_imgs = imgs[i:]\n",
    "test_bboxes = bboxes[i:]\n",
    "print train_X.shape,train_y.shape"
   ]
  },
  {
   "cell_type": "code",
   "execution_count": 9,
   "metadata": {
    "collapsed": true
   },
   "outputs": [],
   "source": [
    "from torchsummary import summary\n",
    "import torch \n",
    "import torch.nn as nn\n",
    "from torch.autograd import Variable\n",
    "import torch.nn.functional as F"
   ]
  },
  {
   "cell_type": "code",
   "execution_count": 12,
   "metadata": {
    "collapsed": true
   },
   "outputs": [],
   "source": [
    "class CNNModel(nn.Module):\n",
    "    def __init__(self):\n",
    "        super(CNNModel,self).__init__()\n",
    "\n",
    "        #conv 1\n",
    "        self.cnn1=nn.Conv2d(in_channels=3, out_channels=32, kernel_size=3, stride=1, padding=2)\n",
    "        self.relu1=nn.ReLU()\n",
    "\n",
    "        #Maxpool 1\n",
    "        self.maxpool1=nn.MaxPool2d(kernel_size=2)\n",
    "\n",
    "        #conv 2\n",
    "        self.cnn2=nn.Conv2d(in_channels=32, out_channels=64, kernel_size=3, stride=1, padding=2)\n",
    "        self.relu2=nn.ReLU()\n",
    "\n",
    "        #Maxpool 2\n",
    "        self.maxpool2=nn.MaxPool2d(kernel_size=2)\n",
    "        \n",
    "        #conv 3\n",
    "        self.cnn3=nn.Conv2d(in_channels=64, out_channels=128, kernel_size=3, stride=1, padding=2)\n",
    "        self.relu3=nn.ReLU()\n",
    "\n",
    "        #Maxpool 3\n",
    "        self.maxpool3=nn.MaxPool2d(kernel_size=2)\n",
    "        \n",
    "        #FC 1\n",
    "        self.fc1=nn.Linear(1152,256)\n",
    "        self.relu4=nn.ReLU()\n",
    "            \n",
    "        #Drop out \n",
    "        self.dropout1 = nn.Dropout(0.2)\n",
    "        \n",
    "        #FC 2\n",
    "        self.fc2=nn.Linear(256,20)\n",
    "        \n",
    "\n",
    "    def forward(self,x):\n",
    "        '''\n",
    "        ori=x[0][0].data.numpy()\n",
    "        print ('original : ',ori.shape)\n",
    "        plt.imshow(ori, cmap=plt.get_cmap('gray'))\n",
    "        plt.show(),\n",
    "        '''\n",
    "        #conv1\n",
    "        out=self.cnn1(x)\n",
    "        out=self.relu1(out)\n",
    "        '''\n",
    "        #print type(out)\n",
    "        intm=out[0][0].data.numpy()\n",
    "        print ('conv 1: ',intm.shape)\n",
    "        #imgplot = plt.imshow(intm)\n",
    "        plt.imshow(intm, cmap=plt.get_cmap('gray'))\n",
    "        plt.show(),\n",
    "        '''\n",
    "        \n",
    "        #max poo1 1\n",
    "        out=self.maxpool1(out)\n",
    "        '''\n",
    "        ap=out[0][0].data.numpy()\n",
    "        print ('maxpool 1 : ',ap.shape)\n",
    "        plt.imshow(ap, cmap=plt.get_cmap('gray'))\n",
    "        plt.show(),\n",
    "        '''\n",
    "        \n",
    "        \n",
    "        #conv2\n",
    "        out=self.cnn2(out)\n",
    "        out=self.relu2(out)\n",
    "        '''\n",
    "        intm=out[0][0].data.numpy()\n",
    "        print ('conv 2: ',intm.shape)\n",
    "        imgplot = plt.imshow(intm)\n",
    "        plt.imshow(intm, cmap=plt.get_cmap('gray'))\n",
    "        plt.show(),\n",
    "        '''\n",
    "        \n",
    "        #max poo1 2\n",
    "        out=self.maxpool2(out)\n",
    "        '''\n",
    "        ap=out[0][0].data.numpy()\n",
    "        print ('maxpool 2 : ',ap.shape)\n",
    "        plt.imshow(ap, cmap=plt.get_cmap('gray'))\n",
    "        plt.show()\n",
    "        '''\n",
    "        \n",
    "        #conv3\n",
    "        out=self.cnn3(out)\n",
    "        out=self.relu3(out)\n",
    "        '''\n",
    "        intm=out[0][0].data.numpy()\n",
    "        print ('conv 3: ',intm.shape)\n",
    "        imgplot = plt.imshow(intm)\n",
    "        plt.imshow(intm, cmap=plt.get_cmap('gray'))\n",
    "        plt.show(),\n",
    "        '''\n",
    "        \n",
    "        #max poo1 3\n",
    "        out=self.maxpool3(out)\n",
    "        \"\"\"ap=out[0][0].data.numpy()\n",
    "        print ('maxpool 3 : ',ap.shape)\n",
    "        plt.imshow(ap, cmap=plt.get_cmap('gray'))\n",
    "        plt.show()\n",
    "        \"\"\"\n",
    "        \n",
    "        out=out.view(out.size(0),-1)        \n",
    "        #fc1\n",
    "        out=self.fc1(out)\n",
    "        out=self.relu4(out) \n",
    "        \n",
    "        \n",
    "        #dropout\n",
    "        out=self.dropout1(out)\n",
    "        \n",
    "        #fc2\n",
    "        out=self.fc2(out)\n",
    "        \n",
    "        return out"
   ]
  },
  {
   "cell_type": "code",
   "execution_count": 13,
   "metadata": {},
   "outputs": [
    {
     "name": "stdout",
     "output_type": "stream",
     "text": [
      "----------------------------------------------------------------\n",
      "        Layer (type)               Output Shape         Param #\n",
      "================================================================\n",
      "            Conv2d-1        [-1, 32L, 18L, 18L]             896\n",
      "              ReLU-2        [-1, 32L, 18L, 18L]               0\n",
      "         MaxPool2d-3          [-1, 32L, 9L, 9L]               0\n",
      "            Conv2d-4        [-1, 64L, 11L, 11L]           18496\n",
      "              ReLU-5        [-1, 64L, 11L, 11L]               0\n",
      "         MaxPool2d-6          [-1, 64L, 5L, 5L]               0\n",
      "            Conv2d-7         [-1, 128L, 7L, 7L]           73856\n",
      "              ReLU-8         [-1, 128L, 7L, 7L]               0\n",
      "         MaxPool2d-9         [-1, 128L, 3L, 3L]               0\n",
      "           Linear-10                 [-1, 256L]          295168\n",
      "             ReLU-11                 [-1, 256L]               0\n",
      "          Dropout-12                 [-1, 256L]               0\n",
      "           Linear-13                  [-1, 20L]            5140\n",
      "================================================================\n",
      "Total params: 393556\n",
      "Trainable params: 393556\n",
      "Non-trainable params: 0\n",
      "----------------------------------------------------------------\n",
      "None\n"
     ]
    }
   ],
   "source": [
    "model = CNNModel()\n",
    "\n",
    "print summary(model, (3, 16,16))"
   ]
  },
  {
   "cell_type": "code",
   "execution_count": 14,
   "metadata": {
    "collapsed": true
   },
   "outputs": [],
   "source": [
    "model=CNNModel()\n",
    "criterion=nn.MSELoss()\n",
    "learning_rate=0.01\n",
    "optimizer=torch.optim.Adam(model.parameters(),lr=learning_rate)"
   ]
  },
  {
   "cell_type": "code",
   "execution_count": 15,
   "metadata": {
    "collapsed": true
   },
   "outputs": [],
   "source": [
    "def IOU(bbox1, bbox2):\n",
    "    '''Calculate overlap between two bounding boxes [x, y, w, h] as the area of intersection over the area of unity'''\n",
    "    x1, y1, w1, h1 = bbox1[0], bbox1[1], bbox1[2], bbox1[3]  # TODO: Check if its more performant if tensor elements are accessed directly below.\n",
    "    x2, y2, w2, h2 = bbox2[0], bbox2[1], bbox2[2], bbox2[3]\n",
    "\n",
    "    w_I = min(x1 + w1, x2 + w2) - max(x1, x2)\n",
    "    h_I = min(y1 + h1, y2 + h2) - max(y1, y2)\n",
    "    if w_I <= 0 or h_I <= 0:  # no overlap\n",
    "        return 0\n",
    "    I = w_I * h_I\n",
    "\n",
    "    U = w1 * h1 + w2 * h2 - I\n",
    "\n",
    "    return I / U\n",
    "\n",
    "def dist(bbox1, bbox2):\n",
    "    return np.sqrt(np.sum(np.square(bbox1[:2] - bbox2[:2])))\n"
   ]
  },
  {
   "cell_type": "code",
   "execution_count": 22,
   "metadata": {
    "collapsed": true
   },
   "outputs": [],
   "source": [
    "num_epochs_flipping = 30\n",
    "num_epochs_no_flipping = 0  # has no significant effect\n",
    "\n",
    "flipped_train_y = np.array(train_y)\n",
    "flipped = np.zeros((len(train_y), num_epochs_flipping + num_epochs_no_flipping))\n",
    "ious_epoch = np.zeros((len(train_y), num_epochs_flipping + num_epochs_no_flipping))\n",
    "dists_epoch = np.zeros((len(train_y), num_epochs_flipping + num_epochs_no_flipping))\n",
    "mses_epoch = np.zeros((len(train_y), num_epochs_flipping + num_epochs_no_flipping))\n",
    "acc_shapes_epoch = np.zeros((len(train_y), num_epochs_flipping + num_epochs_no_flipping))\n",
    "acc_colors_epoch = np.zeros((len(train_y), num_epochs_flipping + num_epochs_no_flipping))"
   ]
  },
  {
   "cell_type": "code",
   "execution_count": 26,
   "metadata": {},
   "outputs": [
    {
     "name": "stdout",
     "output_type": "stream",
     "text": [
      "Epoch 0\n",
      "epoch 0, loss 0.145344659686\n",
      "<type 'numpy.ndarray'>\n",
      "Mean IOU: 0.105578238781\n",
      "Mean dist: 0.263938697961\n",
      "Mean mse: 0.137444585448\n",
      "Epoch 1\n",
      "epoch 1, loss 0.146122157574\n",
      "<type 'numpy.ndarray'>\n",
      "Mean IOU: 0.10079591481\n",
      "Mean dist: 0.266691366749\n",
      "Mean mse: 0.137385010272\n",
      "Epoch 2\n",
      "epoch 2, loss 0.145953088999\n",
      "<type 'numpy.ndarray'>\n",
      "Mean IOU: 0.101933037693\n",
      "Mean dist: 0.265179068402\n",
      "Mean mse: 0.137122988052\n",
      "Epoch 3\n",
      "epoch 3, loss 0.146019592881\n",
      "<type 'numpy.ndarray'>\n",
      "Mean IOU: 0.10346147019\n",
      "Mean dist: 0.265595358713\n",
      "Mean mse: 0.137203866154\n",
      "Epoch 4\n",
      "epoch 4, loss 0.146030649543\n",
      "<type 'numpy.ndarray'>\n",
      "Mean IOU: 0.101353288657\n",
      "Mean dist: 0.26549935908\n",
      "Mean mse: 0.137148820954\n",
      "Epoch 5\n",
      "epoch 5, loss 0.146016061306\n",
      "<type 'numpy.ndarray'>\n",
      "Mean IOU: 0.0995355295024\n",
      "Mean dist: 0.265317339306\n",
      "Mean mse: 0.136954361581\n",
      "Epoch 6\n",
      "epoch 6, loss 0.146126449108\n",
      "<type 'numpy.ndarray'>\n",
      "Mean IOU: 0.0957730592255\n",
      "Mean dist: 0.264968023714\n",
      "Mean mse: 0.136955085216\n",
      "Epoch 7\n",
      "epoch 7, loss 0.146635726094\n",
      "<type 'numpy.ndarray'>\n",
      "Mean IOU: 0.096485833997\n",
      "Mean dist: 0.265505881805\n",
      "Mean mse: 0.136933136303\n",
      "Epoch 8\n",
      "epoch 8, loss 0.146064400673\n",
      "<type 'numpy.ndarray'>\n",
      "Mean IOU: 0.10304424637\n",
      "Mean dist: 0.261822888132\n",
      "Mean mse: 0.136818639205\n",
      "Epoch 9\n",
      "epoch 9, loss 0.146652474999\n",
      "<type 'numpy.ndarray'>\n",
      "Mean IOU: 0.0957411372007\n",
      "Mean dist: 0.258306930363\n",
      "Mean mse: 0.136555748311\n",
      "Epoch 10\n",
      "epoch 10, loss 0.145915612578\n",
      "<type 'numpy.ndarray'>\n",
      "Mean IOU: 0.0983029521179\n",
      "Mean dist: 0.264243813977\n",
      "Mean mse: 0.136928495498\n",
      "Epoch 11\n",
      "epoch 11, loss 0.146495133638\n",
      "<type 'numpy.ndarray'>\n",
      "Mean IOU: 0.0989595482414\n",
      "Mean dist: 0.263157305246\n",
      "Mean mse: 0.136992864335\n",
      "Epoch 12\n",
      "epoch 12, loss 0.145946994424\n",
      "<type 'numpy.ndarray'>\n",
      "Mean IOU: 0.100599521411\n",
      "Mean dist: 0.261588198376\n",
      "Mean mse: 0.136750256075\n",
      "Epoch 13\n",
      "epoch 13, loss 0.146404758096\n",
      "<type 'numpy.ndarray'>\n",
      "Mean IOU: 0.092845911995\n",
      "Mean dist: 0.266769626247\n",
      "Mean mse: 0.137067952316\n",
      "Epoch 14\n",
      "epoch 14, loss 0.14620770514\n",
      "<type 'numpy.ndarray'>\n",
      "Mean IOU: 0.0997071980308\n",
      "Mean dist: 0.262358788597\n",
      "Mean mse: 0.136932265382\n",
      "Epoch 15\n",
      "epoch 15, loss 0.14602945745\n",
      "<type 'numpy.ndarray'>\n",
      "Mean IOU: 0.0979287572457\n",
      "Mean dist: 0.264329037287\n",
      "Mean mse: 0.137268031695\n",
      "Epoch 16\n",
      "epoch 16, loss 0.145958960056\n",
      "<type 'numpy.ndarray'>\n",
      "Mean IOU: 0.105402638109\n",
      "Mean dist: 0.26267341662\n",
      "Mean mse: 0.137017101712\n",
      "Epoch 17\n",
      "epoch 17, loss 0.146612018347\n",
      "<type 'numpy.ndarray'>\n",
      "Mean IOU: 0.105701554229\n",
      "Mean dist: 0.260267452542\n",
      "Mean mse: 0.136840675293\n",
      "Epoch 18\n",
      "epoch 18, loss 0.146567299962\n",
      "<type 'numpy.ndarray'>\n",
      "Mean IOU: 0.104336754137\n",
      "Mean dist: 0.261953209683\n",
      "Mean mse: 0.137049222974\n",
      "Epoch 19\n",
      "epoch 19, loss 0.14537486434\n",
      "<type 'numpy.ndarray'>\n",
      "Mean IOU: 0.0997333628149\n",
      "Mean dist: 0.261752493952\n",
      "Mean mse: 0.136879744485\n",
      "Epoch 20\n",
      "epoch 20, loss 0.146088168025\n",
      "<type 'numpy.ndarray'>\n",
      "Mean IOU: 0.100423017364\n",
      "Mean dist: 0.263495387163\n",
      "Mean mse: 0.136823069457\n",
      "Epoch 21\n",
      "epoch 21, loss 0.145792454481\n",
      "<type 'numpy.ndarray'>\n",
      "Mean IOU: 0.100584692212\n",
      "Mean dist: 0.264456485878\n",
      "Mean mse: 0.13704953821\n",
      "Epoch 22\n",
      "epoch 22, loss 0.145857438445\n",
      "<type 'numpy.ndarray'>\n",
      "Mean IOU: 0.099441245216\n",
      "Mean dist: 0.259001255031\n",
      "Mean mse: 0.13710054259\n",
      "Epoch 23\n",
      "epoch 23, loss 0.145820334554\n",
      "<type 'numpy.ndarray'>\n",
      "Mean IOU: 0.0999637209811\n",
      "Mean dist: 0.2606427978\n",
      "Mean mse: 0.136646753271\n",
      "Epoch 24\n",
      "epoch 24, loss 0.146245390177\n",
      "<type 'numpy.ndarray'>\n",
      "Mean IOU: 0.100429507415\n",
      "Mean dist: 0.261800384777\n",
      "Mean mse: 0.136606556581\n",
      "Epoch 25\n",
      "epoch 25, loss 0.14583234489\n",
      "<type 'numpy.ndarray'>\n",
      "Mean IOU: 0.103207561679\n",
      "Mean dist: 0.260074327049\n",
      "Mean mse: 0.13685131447\n",
      "Epoch 26\n",
      "epoch 26, loss 0.145588696003\n",
      "<type 'numpy.ndarray'>\n",
      "Mean IOU: 0.101274719106\n",
      "Mean dist: 0.26389144238\n",
      "Mean mse: 0.137035768305\n",
      "Epoch 27\n",
      "epoch 27, loss 0.145627811551\n",
      "<type 'numpy.ndarray'>\n",
      "Mean IOU: 0.0991390457277\n",
      "Mean dist: 0.264727040185\n",
      "Mean mse: 0.13657236984\n",
      "Epoch 28\n",
      "epoch 28, loss 0.145594716072\n",
      "<type 'numpy.ndarray'>\n",
      "Mean IOU: 0.0998585267102\n",
      "Mean dist: 0.263398188928\n",
      "Mean mse: 0.136797651659\n",
      "Epoch 29\n",
      "epoch 29, loss 0.145910680294\n",
      "<type 'numpy.ndarray'>\n",
      "Mean IOU: 0.104613182517\n",
      "Mean dist: 0.262113351858\n",
      "Mean mse: 0.137029413969\n"
     ]
    }
   ],
   "source": [
    "loss_list=[]\n",
    "for epoch in range(30):\n",
    "    print 'Epoch', epoch\n",
    "    inputs=Variable(torch.FloatTensor(train_X))\n",
    "    labels=Variable(torch.FloatTensor(train_y))\n",
    "    optimizer.zero_grad()\n",
    "    outputs = model(inputs)\n",
    "    loss=criterion(outputs,labels)\n",
    "    loss.backward()\n",
    "    optimizer.step()\n",
    "    #if epoch%100==0:\n",
    "    print ('epoch {}, loss {}'.format(epoch,loss.data[0])) \n",
    "    loss_list.append(loss.data[0])\n",
    "\n",
    "    pred_y = model(Variable(torch.FloatTensor(train_X))).data.numpy()\n",
    "    print type(pred_y)\n",
    "    #Calculate iou/dist, but don't flip.\n",
    "    for sample, (pred_bboxes, exp_bboxes) in enumerate(zip(pred_y, flipped_train_y)):\n",
    "\n",
    "        pred_bboxes = pred_bboxes.reshape(num_objects, -1)\n",
    "        exp_bboxes = exp_bboxes.reshape(num_objects, -1)        \n",
    "\n",
    "        for exp_bbox, pred_bbox in zip(exp_bboxes, pred_bboxes):\n",
    "            ious_epoch[sample, epoch] += IOU(exp_bbox, pred_bbox)\n",
    "            dists_epoch[sample, epoch] += dist(exp_bbox, pred_bbox)\n",
    "            mses_epoch[sample, epoch] += np.mean(np.square(exp_bbox - pred_bbox))\n",
    "\n",
    "            ious_epoch[sample, epoch] /= num_objects\n",
    "            dists_epoch[sample, epoch] /= num_objects \n",
    "            mses_epoch[sample, epoch] /= num_objects \n",
    "\n",
    "    #print 'Flipped {} % of all elements'.format(np.mean(flipped[:, epoch]) * 100.)\n",
    "    print 'Mean IOU: {}'.format(np.mean(ious_epoch[:, epoch]))\n",
    "    print 'Mean dist: {}'.format(np.mean(dists_epoch[:, epoch]))\n",
    "    print 'Mean mse: {}'.format(np.mean(mses_epoch[:, epoch]))"
   ]
  },
  {
   "cell_type": "code",
   "execution_count": 27,
   "metadata": {},
   "outputs": [
    {
     "data": {
      "text/plain": [
       "((40, 2, 4), (40, 2), (40, 2))"
      ]
     },
     "execution_count": 27,
     "metadata": {},
     "output_type": "execute_result"
    }
   ],
   "source": [
    "pred_y1  = model(Variable(torch.FloatTensor(test_X))).data.numpy()\n",
    "pred_y1 = pred_y1.reshape(len(pred_y1), num_objects, -1)\n",
    "pred_bboxes = pred_y1[..., :4] * img_size\n",
    "pred_shapes = np.argmax(pred_y1[..., 4:4+num_shapes], axis=-1).astype(int)  # take max from probabilities\n",
    "# print pred_y[..., 4+num_shapes:4+num_shapes+num_colors].shape\n",
    "# print np.argmax(pred_y[..., 5:8], axis=-1).shape\n",
    "pred_colors = np.argmax(pred_y1[..., 4+num_shapes:4+num_shapes+num_colors], axis=-1).astype(int)\n",
    "pred_bboxes.shape, pred_shapes.shape, pred_colors.shape"
   ]
  },
  {
   "cell_type": "code",
   "execution_count": 28,
   "metadata": {
    "scrolled": true
   },
   "outputs": [
    {
     "data": {
      "image/png": "[encoded data removed]",
      "text/plain": [
       "<matplotlib.figure.Figure at 0x7f6045c6c650>"
      ]
     },
     "metadata": {},
     "output_type": "display_data"
    }
   ],
   "source": [
    "plt.figure(figsize=(16, 8))\n",
    "for i_subplot in range(1, 9):\n",
    "    plt.subplot(2, 4, i_subplot)\n",
    "    i = np.random.randint(len(test_X))\n",
    "    #print test_imgs[i].transpose(1,2,0).shape\n",
    "    plt.imshow(test_imgs[i].transpose(1,2,0), interpolation='none', origin='lower', extent=[0, 16, 0, 16])\n",
    "    for bbox, shape, color in zip(pred_bboxes[i], pred_shapes[i], pred_colors[i]):\n",
    "        plt.gca().add_patch(matplotlib.patches.Rectangle((bbox[0], bbox[1]), bbox[2], bbox[3], ec='k', fc='none'))\n",
    "        plt.annotate(shape_labels[shape], (bbox[0], bbox[1] + bbox[3] + 0.7), color=color_labels[color], clip_on=False, bbox={'fc': 'w', 'ec': 'none', 'pad': 1, 'alpha': 0.6})\n"
   ]
  },
  {
   "cell_type": "code",
   "execution_count": 29,
   "metadata": {
    "collapsed": true
   },
   "outputs": [],
   "source": [
    "torch.save(model.state_dict(), 'multibox_notflipped_chk.pt')"
   ]
  },
  {
   "cell_type": "markdown",
   "metadata": {},
   "source": [
    "## The bounding boxes are centered to the objects in the data\n",
    "## We need to handle the case of flipping \n",
    "reference https://towardsdatascience.com/object-detection-with-neural-networks-a4e2c46b4491"
   ]
  }
 ],
 "metadata": {
  "kernelspec": {
   "display_name": "Python 2",
   "language": "python",
   "name": "python2"
  },
  "language_info": {
   "codemirror_mode": {
    "name": "ipython",
    "version": 2
   },
   "file_extension": ".py",
   "mimetype": "text/x-python",
   "name": "python",
   "nbconvert_exporter": "python",
   "pygments_lexer": "ipython2",
   "version": "2.7.6"
  }
 },
 "nbformat": 4,
 "nbformat_minor": 2
}
